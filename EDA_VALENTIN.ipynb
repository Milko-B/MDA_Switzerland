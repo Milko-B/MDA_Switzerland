{
 "cells": [
  {
   "cell_type": "code",
   "execution_count": 1,
   "metadata": {},
   "outputs": [],
   "source": [
    "import os\n",
    "import pandas as pd\n",
    "df=pd.read_csv('data/dataverse_files/LC_2019Q3.csv')"
   ]
  },
  {
   "cell_type": "code",
   "execution_count": 3,
   "metadata": {},
   "outputs": [
    {
     "data": {
      "text/html": [
       "<div>\n",
       "<style scoped>\n",
       "    .dataframe tbody tr th:only-of-type {\n",
       "        vertical-align: middle;\n",
       "    }\n",
       "\n",
       "    .dataframe tbody tr th {\n",
       "        vertical-align: top;\n",
       "    }\n",
       "\n",
       "    .dataframe thead th {\n",
       "        text-align: right;\n",
       "    }\n",
       "</style>\n",
       "<table border=\"1\" class=\"dataframe\">\n",
       "  <thead>\n",
       "    <tr style=\"text-align: right;\">\n",
       "      <th></th>\n",
       "      <th>DATEUTC</th>\n",
       "      <th>ID</th>\n",
       "      <th>LC_HUMIDITY</th>\n",
       "      <th>LC_DWPTEMP</th>\n",
       "      <th>LC_n</th>\n",
       "      <th>LC_RAD</th>\n",
       "      <th>LC_RAININ</th>\n",
       "      <th>LC_DAILYRAIN</th>\n",
       "      <th>LC_WINDDIR</th>\n",
       "      <th>LC_WINDSPEED</th>\n",
       "      <th>...</th>\n",
       "      <th>Year</th>\n",
       "      <th>Month</th>\n",
       "      <th>Day</th>\n",
       "      <th>Hour</th>\n",
       "      <th>Minute</th>\n",
       "      <th>LC_RAD60</th>\n",
       "      <th>LC_TEMP_QCL0</th>\n",
       "      <th>LC_TEMP_QCL1</th>\n",
       "      <th>LC_TEMP_QCL2</th>\n",
       "      <th>LC_TEMP_QCL3</th>\n",
       "    </tr>\n",
       "  </thead>\n",
       "  <tbody>\n",
       "    <tr>\n",
       "      <th>0</th>\n",
       "      <td>2019-07-01 00:10:00</td>\n",
       "      <td>LC-002</td>\n",
       "      <td>71.0</td>\n",
       "      <td>13.07</td>\n",
       "      <td>38.0</td>\n",
       "      <td>0.0</td>\n",
       "      <td>0.0</td>\n",
       "      <td>0.0</td>\n",
       "      <td>-52.0</td>\n",
       "      <td>0.31</td>\n",
       "      <td>...</td>\n",
       "      <td>2019</td>\n",
       "      <td>7</td>\n",
       "      <td>1</td>\n",
       "      <td>0</td>\n",
       "      <td>10</td>\n",
       "      <td>0.0</td>\n",
       "      <td>18.44</td>\n",
       "      <td>18.44</td>\n",
       "      <td>18.374</td>\n",
       "      <td>18.319228</td>\n",
       "    </tr>\n",
       "    <tr>\n",
       "      <th>1</th>\n",
       "      <td>2019-07-01 00:20:00</td>\n",
       "      <td>LC-002</td>\n",
       "      <td>71.0</td>\n",
       "      <td>12.93</td>\n",
       "      <td>37.0</td>\n",
       "      <td>0.0</td>\n",
       "      <td>0.0</td>\n",
       "      <td>0.0</td>\n",
       "      <td>-37.0</td>\n",
       "      <td>0.35</td>\n",
       "      <td>...</td>\n",
       "      <td>2019</td>\n",
       "      <td>7</td>\n",
       "      <td>1</td>\n",
       "      <td>0</td>\n",
       "      <td>20</td>\n",
       "      <td>0.0</td>\n",
       "      <td>18.18</td>\n",
       "      <td>18.18</td>\n",
       "      <td>18.114</td>\n",
       "      <td>18.079116</td>\n",
       "    </tr>\n",
       "    <tr>\n",
       "      <th>2</th>\n",
       "      <td>2019-07-01 00:30:00</td>\n",
       "      <td>LC-002</td>\n",
       "      <td>73.0</td>\n",
       "      <td>12.86</td>\n",
       "      <td>38.0</td>\n",
       "      <td>0.0</td>\n",
       "      <td>0.0</td>\n",
       "      <td>0.0</td>\n",
       "      <td>-70.0</td>\n",
       "      <td>0.32</td>\n",
       "      <td>...</td>\n",
       "      <td>2019</td>\n",
       "      <td>7</td>\n",
       "      <td>1</td>\n",
       "      <td>0</td>\n",
       "      <td>30</td>\n",
       "      <td>0.0</td>\n",
       "      <td>17.82</td>\n",
       "      <td>17.82</td>\n",
       "      <td>17.754</td>\n",
       "      <td>17.700181</td>\n",
       "    </tr>\n",
       "    <tr>\n",
       "      <th>3</th>\n",
       "      <td>2019-07-01 00:40:00</td>\n",
       "      <td>LC-002</td>\n",
       "      <td>74.0</td>\n",
       "      <td>12.75</td>\n",
       "      <td>37.0</td>\n",
       "      <td>0.0</td>\n",
       "      <td>0.0</td>\n",
       "      <td>0.0</td>\n",
       "      <td>-64.0</td>\n",
       "      <td>0.36</td>\n",
       "      <td>...</td>\n",
       "      <td>2019</td>\n",
       "      <td>7</td>\n",
       "      <td>1</td>\n",
       "      <td>0</td>\n",
       "      <td>40</td>\n",
       "      <td>0.0</td>\n",
       "      <td>17.49</td>\n",
       "      <td>17.49</td>\n",
       "      <td>17.424</td>\n",
       "      <td>17.382426</td>\n",
       "    </tr>\n",
       "    <tr>\n",
       "      <th>4</th>\n",
       "      <td>2019-07-01 00:50:00</td>\n",
       "      <td>LC-002</td>\n",
       "      <td>75.0</td>\n",
       "      <td>12.73</td>\n",
       "      <td>38.0</td>\n",
       "      <td>0.0</td>\n",
       "      <td>0.0</td>\n",
       "      <td>0.0</td>\n",
       "      <td>-62.0</td>\n",
       "      <td>0.29</td>\n",
       "      <td>...</td>\n",
       "      <td>2019</td>\n",
       "      <td>7</td>\n",
       "      <td>1</td>\n",
       "      <td>0</td>\n",
       "      <td>50</td>\n",
       "      <td>0.0</td>\n",
       "      <td>17.27</td>\n",
       "      <td>17.27</td>\n",
       "      <td>17.204</td>\n",
       "      <td>17.106770</td>\n",
       "    </tr>\n",
       "  </tbody>\n",
       "</table>\n",
       "<p>5 rows × 21 columns</p>\n",
       "</div>"
      ],
      "text/plain": [
       "               DATEUTC      ID  LC_HUMIDITY  LC_DWPTEMP  LC_n  LC_RAD  \\\n",
       "0  2019-07-01 00:10:00  LC-002         71.0       13.07  38.0     0.0   \n",
       "1  2019-07-01 00:20:00  LC-002         71.0       12.93  37.0     0.0   \n",
       "2  2019-07-01 00:30:00  LC-002         73.0       12.86  38.0     0.0   \n",
       "3  2019-07-01 00:40:00  LC-002         74.0       12.75  37.0     0.0   \n",
       "4  2019-07-01 00:50:00  LC-002         75.0       12.73  38.0     0.0   \n",
       "\n",
       "   LC_RAININ  LC_DAILYRAIN  LC_WINDDIR  LC_WINDSPEED  ...  Year  Month  Day  \\\n",
       "0        0.0           0.0       -52.0          0.31  ...  2019      7    1   \n",
       "1        0.0           0.0       -37.0          0.35  ...  2019      7    1   \n",
       "2        0.0           0.0       -70.0          0.32  ...  2019      7    1   \n",
       "3        0.0           0.0       -64.0          0.36  ...  2019      7    1   \n",
       "4        0.0           0.0       -62.0          0.29  ...  2019      7    1   \n",
       "\n",
       "   Hour  Minute  LC_RAD60  LC_TEMP_QCL0  LC_TEMP_QCL1  LC_TEMP_QCL2  \\\n",
       "0     0      10       0.0         18.44         18.44        18.374   \n",
       "1     0      20       0.0         18.18         18.18        18.114   \n",
       "2     0      30       0.0         17.82         17.82        17.754   \n",
       "3     0      40       0.0         17.49         17.49        17.424   \n",
       "4     0      50       0.0         17.27         17.27        17.204   \n",
       "\n",
       "   LC_TEMP_QCL3  \n",
       "0     18.319228  \n",
       "1     18.079116  \n",
       "2     17.700181  \n",
       "3     17.382426  \n",
       "4     17.106770  \n",
       "\n",
       "[5 rows x 21 columns]"
      ]
     },
     "execution_count": 3,
     "metadata": {},
     "output_type": "execute_result"
    }
   ],
   "source": [
    "df.head()"
   ]
  },
  {
   "cell_type": "code",
   "execution_count": 12,
   "metadata": {},
   "outputs": [],
   "source": [
    "# use pandas-profiling to generate a report\n",
    "import pandas_profiling\n",
    "report=pandas_profiling.ProfileReport(df)"
   ]
  },
  {
   "cell_type": "code",
   "execution_count": 17,
   "metadata": {},
   "outputs": [
    {
     "data": {
      "application/vnd.jupyter.widget-view+json": {
       "model_id": "6fc2719b58c8454b92f31a5e30b01549",
       "version_major": 2,
       "version_minor": 0
      },
      "text/plain": [
       "Export report to file:   0%|          | 0/1 [00:00<?, ?it/s]"
      ]
     },
     "metadata": {},
     "output_type": "display_data"
    }
   ],
   "source": [
    "# save the report to a file\n",
    "report.to_file('LC_2019Q3_report.html')"
   ]
  },
  {
   "cell_type": "code",
   "execution_count": 18,
   "metadata": {},
   "outputs": [
    {
     "data": {
      "application/vnd.jupyter.widget-view+json": {
       "model_id": "aaf3930b97a541438907e9e5f3004cfd",
       "version_major": 2,
       "version_minor": 0
      },
      "text/plain": [
       "Summarize dataset:   0%|          | 0/5 [00:00<?, ?it/s]"
      ]
     },
     "metadata": {},
     "output_type": "display_data"
    },
    {
     "data": {
      "application/vnd.jupyter.widget-view+json": {
       "model_id": "37907ad0f66e456fb172baae16d8d3a4",
       "version_major": 2,
       "version_minor": 0
      },
      "text/plain": [
       "Generate report structure:   0%|          | 0/1 [00:00<?, ?it/s]"
      ]
     },
     "metadata": {},
     "output_type": "display_data"
    },
    {
     "data": {
      "application/vnd.jupyter.widget-view+json": {
       "model_id": "1f864dd868eb4c06b2fbaac52932a865",
       "version_major": 2,
       "version_minor": 0
      },
      "text/plain": [
       "Render HTML:   0%|          | 0/1 [00:00<?, ?it/s]"
      ]
     },
     "metadata": {},
     "output_type": "display_data"
    },
    {
     "data": {
      "application/vnd.jupyter.widget-view+json": {
       "model_id": "72547048b20f490b8e075d27a7b80f5d",
       "version_major": 2,
       "version_minor": 0
      },
      "text/plain": [
       "Export report to file:   0%|          | 0/1 [00:00<?, ?it/s]"
      ]
     },
     "metadata": {},
     "output_type": "display_data"
    }
   ],
   "source": [
    "df=pd.read_csv('data/export_40/csv_results_40_255439_mp-01-naamsestraat-35-maxim.csv')\n",
    "# use pandas-profiling to generate a report\n",
    "import pandas_profiling\n",
    "report=pandas_profiling.ProfileReport(df)\n",
    "# save the report to a file\n",
    "report.to_file('export40_naamsestraat-maxim_report.html')"
   ]
  }
 ],
 "metadata": {
  "kernelspec": {
   "display_name": "Python 3",
   "language": "python",
   "name": "python3"
  },
  "language_info": {
   "codemirror_mode": {
    "name": "ipython",
    "version": 3
   },
   "file_extension": ".py",
   "mimetype": "text/x-python",
   "name": "python",
   "nbconvert_exporter": "python",
   "pygments_lexer": "ipython3",
   "version": "3.10.0"
  },
  "orig_nbformat": 4
 },
 "nbformat": 4,
 "nbformat_minor": 2
}
