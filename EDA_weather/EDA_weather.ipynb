{
 "cells": [
  {
   "attachments": {},
   "cell_type": "markdown",
   "metadata": {},
   "source": [
    "## This Notebook will serve as Data Cleaning and EDA for the weather dataset."
   ]
  },
  {
   "attachments": {},
   "cell_type": "markdown",
   "metadata": {},
   "source": [
    "D02. Explanation of abbreviations & units of measurements\n",
    "Metadata.csv: \n",
    "\tID = Station's ID (ex. LC-XXX) [-]\n",
    "\tLAT = latitute (rounded to 3 decimals for privacy reasons) [-]\n",
    "\tLON = longitude (rounded to 3 decimals for privacy reasons) [-]\n",
    "\tALT = altitude above sea level [m]\n",
    "\tLCZ = local climate zone [-]. For details: see accompanying publictation.\n",
    "\tLC = main landcover directly around weather station (0 = impervious/1= green) [-]\n",
    "\tbuilding_height = mean building height in circular buffer 10m around weather station [m]\n",
    "\tSVF = mean sky view factor in circular buffer 10m around weather station [-]\n",
    "\tinstallation_height = installation height of weather station [m]\n",
    "\n",
    "LC_YYYYQX.csv: \n",
    "\tDATEUTC = Date and time (UTC) in POSIXct format: YYYY-MM-DD HH:MM:SS\n",
    "\tID = Station's ID (ex. LC-XXX) [-]\n",
    " \tLC_HUMIDITY = Relative humidity [%]\n",
    "\tLC_DWPTEMP = Dew point temperature [∞C]\n",
    "\tLC_n = Number of 16 second observations in 10 minutes aggregate\n",
    "\tLC_RAD = Solar radiation [W/m2]\n",
    "\tLC_RAININ = Rain intensity [mm/h]\n",
    "\tLC_DAILYRAIN = Daily rain sum [mm]\n",
    "\tLC_WINDDIR = Wind direction [∞]\n",
    "\tLC_WINDSPEED = Wind speed [m/s]\n",
    "\tDate = Date in YYYY-MM-DD\n",
    "\tYear = Year in YYYY\n",
    "\tMonth = Month in MM\n",
    "\tDay = Day in DD\n",
    "\tHour = Hour in HH\n",
    "\tMinute = Minute in MM\n",
    "\tLC_RAD60 = Weighted radiation during last 60 minutes [W/m2]\n",
    "\tLC_TEMP_QCL0 = Temperature at QCL0 [∞C]\n",
    "\tLC_TEMP_QCL1 = Temperature at QCL1 [∞C]\n",
    "\tLC_TEMP_QCL2 = Temperature at QCL2 [∞C]\n",
    "\tLC_TEMP_QCL3 = Temperature at QCL3 [∞C]"
   ]
  },
  {
   "cell_type": "code",
   "execution_count": 52,
   "metadata": {},
   "outputs": [],
   "source": [
    "import pandas as pd\n",
    "import ydata_profiling\n",
    "import sweetviz as sv\n",
    "from autoviz import data_cleaning_suggestions"
   ]
  },
  {
   "cell_type": "code",
   "execution_count": 53,
   "metadata": {},
   "outputs": [],
   "source": [
    "# load csv and save as dataframe\n",
    "df1 = pd.read_csv('data/dataverse_files/LC_2022Q1.csv')\n",
    "df2 = pd.read_csv('data/dataverse_files/LC_2022Q2.csv')\n",
    "df3 = pd.read_csv('data/dataverse_files/LC_2022Q3.csv')\n",
    "df4 = pd.read_csv('data/dataverse_files/LC_2022Q4.csv')\n",
    "# merge all dataframes\n",
    "df = pd.concat([df1, df2, df3, df4], ignore_index=True)\n",
    "\n",
    "# load metadata and save as dataframe\n",
    "df_meta = pd.read_csv('data/dataverse_files/01_Metadata_v2.csv')"
   ]
  },
  {
   "cell_type": "code",
   "execution_count": 39,
   "metadata": {},
   "outputs": [
    {
     "data": {
      "text/html": [
       "<div>\n",
       "<style scoped>\n",
       "    .dataframe tbody tr th:only-of-type {\n",
       "        vertical-align: middle;\n",
       "    }\n",
       "\n",
       "    .dataframe tbody tr th {\n",
       "        vertical-align: top;\n",
       "    }\n",
       "\n",
       "    .dataframe thead th {\n",
       "        text-align: right;\n",
       "    }\n",
       "</style>\n",
       "<table border=\"1\" class=\"dataframe\">\n",
       "  <thead>\n",
       "    <tr style=\"text-align: right;\">\n",
       "      <th></th>\n",
       "      <th>ID</th>\n",
       "      <th>LAT</th>\n",
       "      <th>LON</th>\n",
       "      <th>ALT</th>\n",
       "      <th>Local_climate_zone</th>\n",
       "      <th>Landcover</th>\n",
       "      <th>building_height</th>\n",
       "      <th>Sky_view_factor</th>\n",
       "      <th>installation_height</th>\n",
       "    </tr>\n",
       "  </thead>\n",
       "  <tbody>\n",
       "    <tr>\n",
       "      <th>0</th>\n",
       "      <td>LC-002</td>\n",
       "      <td>50.847</td>\n",
       "      <td>4.756</td>\n",
       "      <td>47</td>\n",
       "      <td>9</td>\n",
       "      <td>1</td>\n",
       "      <td>4.280000</td>\n",
       "      <td>0.610367</td>\n",
       "      <td>2</td>\n",
       "    </tr>\n",
       "    <tr>\n",
       "      <th>1</th>\n",
       "      <td>LC-003</td>\n",
       "      <td>50.870</td>\n",
       "      <td>4.728</td>\n",
       "      <td>44</td>\n",
       "      <td>5</td>\n",
       "      <td>1</td>\n",
       "      <td>5.038286</td>\n",
       "      <td>0.691315</td>\n",
       "      <td>2</td>\n",
       "    </tr>\n",
       "    <tr>\n",
       "      <th>2</th>\n",
       "      <td>LC-004</td>\n",
       "      <td>50.871</td>\n",
       "      <td>4.685</td>\n",
       "      <td>31</td>\n",
       "      <td>9</td>\n",
       "      <td>1</td>\n",
       "      <td>9.050964</td>\n",
       "      <td>0.798586</td>\n",
       "      <td>2</td>\n",
       "    </tr>\n",
       "    <tr>\n",
       "      <th>3</th>\n",
       "      <td>LC-005</td>\n",
       "      <td>50.881</td>\n",
       "      <td>4.713</td>\n",
       "      <td>26</td>\n",
       "      <td>2</td>\n",
       "      <td>1</td>\n",
       "      <td>5.050000</td>\n",
       "      <td>0.685410</td>\n",
       "      <td>2</td>\n",
       "    </tr>\n",
       "    <tr>\n",
       "      <th>4</th>\n",
       "      <td>LC-006</td>\n",
       "      <td>50.912</td>\n",
       "      <td>4.716</td>\n",
       "      <td>13</td>\n",
       "      <td>6</td>\n",
       "      <td>1</td>\n",
       "      <td>0.000000</td>\n",
       "      <td>0.954032</td>\n",
       "      <td>2</td>\n",
       "    </tr>\n",
       "    <tr>\n",
       "      <th>...</th>\n",
       "      <td>...</td>\n",
       "      <td>...</td>\n",
       "      <td>...</td>\n",
       "      <td>...</td>\n",
       "      <td>...</td>\n",
       "      <td>...</td>\n",
       "      <td>...</td>\n",
       "      <td>...</td>\n",
       "      <td>...</td>\n",
       "    </tr>\n",
       "    <tr>\n",
       "      <th>112</th>\n",
       "      <td>LC-134</td>\n",
       "      <td>50.926</td>\n",
       "      <td>4.725</td>\n",
       "      <td>12</td>\n",
       "      <td>9</td>\n",
       "      <td>0</td>\n",
       "      <td>14.250000</td>\n",
       "      <td>0.692417</td>\n",
       "      <td>3</td>\n",
       "    </tr>\n",
       "    <tr>\n",
       "      <th>113</th>\n",
       "      <td>LC-135</td>\n",
       "      <td>50.874</td>\n",
       "      <td>4.760</td>\n",
       "      <td>92</td>\n",
       "      <td>14</td>\n",
       "      <td>1</td>\n",
       "      <td>0.000000</td>\n",
       "      <td>0.716678</td>\n",
       "      <td>2</td>\n",
       "    </tr>\n",
       "    <tr>\n",
       "      <th>114</th>\n",
       "      <td>LC-136</td>\n",
       "      <td>50.881</td>\n",
       "      <td>4.753</td>\n",
       "      <td>44</td>\n",
       "      <td>12</td>\n",
       "      <td>1</td>\n",
       "      <td>0.000000</td>\n",
       "      <td>0.825019</td>\n",
       "      <td>2</td>\n",
       "    </tr>\n",
       "    <tr>\n",
       "      <th>115</th>\n",
       "      <td>LC-137</td>\n",
       "      <td>50.854</td>\n",
       "      <td>4.694</td>\n",
       "      <td>42</td>\n",
       "      <td>6</td>\n",
       "      <td>1</td>\n",
       "      <td>2.757826</td>\n",
       "      <td>0.722500</td>\n",
       "      <td>2</td>\n",
       "    </tr>\n",
       "    <tr>\n",
       "      <th>116</th>\n",
       "      <td>LC-138</td>\n",
       "      <td>50.873</td>\n",
       "      <td>4.697</td>\n",
       "      <td>22</td>\n",
       "      <td>5</td>\n",
       "      <td>1</td>\n",
       "      <td>0.000000</td>\n",
       "      <td>0.399048</td>\n",
       "      <td>2</td>\n",
       "    </tr>\n",
       "  </tbody>\n",
       "</table>\n",
       "<p>117 rows × 9 columns</p>\n",
       "</div>"
      ],
      "text/plain": [
       "         ID     LAT    LON  ALT  Local_climate_zone  Landcover  \\\n",
       "0    LC-002  50.847  4.756   47                   9          1   \n",
       "1    LC-003  50.870  4.728   44                   5          1   \n",
       "2    LC-004  50.871  4.685   31                   9          1   \n",
       "3    LC-005  50.881  4.713   26                   2          1   \n",
       "4    LC-006  50.912  4.716   13                   6          1   \n",
       "..      ...     ...    ...  ...                 ...        ...   \n",
       "112  LC-134  50.926  4.725   12                   9          0   \n",
       "113  LC-135  50.874  4.760   92                  14          1   \n",
       "114  LC-136  50.881  4.753   44                  12          1   \n",
       "115  LC-137  50.854  4.694   42                   6          1   \n",
       "116  LC-138  50.873  4.697   22                   5          1   \n",
       "\n",
       "     building_height  Sky_view_factor  installation_height  \n",
       "0           4.280000         0.610367                    2  \n",
       "1           5.038286         0.691315                    2  \n",
       "2           9.050964         0.798586                    2  \n",
       "3           5.050000         0.685410                    2  \n",
       "4           0.000000         0.954032                    2  \n",
       "..               ...              ...                  ...  \n",
       "112        14.250000         0.692417                    3  \n",
       "113         0.000000         0.716678                    2  \n",
       "114         0.000000         0.825019                    2  \n",
       "115         2.757826         0.722500                    2  \n",
       "116         0.000000         0.399048                    2  \n",
       "\n",
       "[117 rows x 9 columns]"
      ]
     },
     "execution_count": 39,
     "metadata": {},
     "output_type": "execute_result"
    }
   ],
   "source": [
    "df_meta"
   ]
  },
  {
   "cell_type": "code",
   "execution_count": 40,
   "metadata": {},
   "outputs": [
    {
     "data": {
      "text/plain": [
       "(5546880, 21)"
      ]
     },
     "execution_count": 40,
     "metadata": {},
     "output_type": "execute_result"
    }
   ],
   "source": [
    "df.shape"
   ]
  },
  {
   "cell_type": "code",
   "execution_count": 50,
   "metadata": {},
   "outputs": [
    {
     "data": {
      "text/html": [
       "<div>\n",
       "<style scoped>\n",
       "    .dataframe tbody tr th:only-of-type {\n",
       "        vertical-align: middle;\n",
       "    }\n",
       "\n",
       "    .dataframe tbody tr th {\n",
       "        vertical-align: top;\n",
       "    }\n",
       "\n",
       "    .dataframe thead th {\n",
       "        text-align: right;\n",
       "    }\n",
       "</style>\n",
       "<table border=\"1\" class=\"dataframe\">\n",
       "  <thead>\n",
       "    <tr style=\"text-align: right;\">\n",
       "      <th></th>\n",
       "      <th>DATEUTC</th>\n",
       "      <th>ID</th>\n",
       "      <th>LC_HUMIDITY</th>\n",
       "      <th>LC_DWPTEMP</th>\n",
       "      <th>LC_n</th>\n",
       "      <th>LC_RAD</th>\n",
       "      <th>LC_RAININ</th>\n",
       "      <th>LC_DAILYRAIN</th>\n",
       "      <th>LC_WINDDIR</th>\n",
       "      <th>LC_WINDSPEED</th>\n",
       "      <th>LC_RAD60</th>\n",
       "      <th>LC_TEMP_QCL3</th>\n",
       "    </tr>\n",
       "  </thead>\n",
       "  <tbody>\n",
       "    <tr>\n",
       "      <th>0</th>\n",
       "      <td>2022-01-01 00:10:00</td>\n",
       "      <td>2</td>\n",
       "      <td>92</td>\n",
       "      <td>11.78</td>\n",
       "      <td>38</td>\n",
       "      <td>0</td>\n",
       "      <td>0.0</td>\n",
       "      <td>0.0</td>\n",
       "      <td>-169.0</td>\n",
       "      <td>0.43</td>\n",
       "      <td>0.0</td>\n",
       "      <td>13.048027</td>\n",
       "    </tr>\n",
       "    <tr>\n",
       "      <th>1</th>\n",
       "      <td>2022-01-01 00:20:00</td>\n",
       "      <td>2</td>\n",
       "      <td>92</td>\n",
       "      <td>11.73</td>\n",
       "      <td>37</td>\n",
       "      <td>0</td>\n",
       "      <td>0.0</td>\n",
       "      <td>0.0</td>\n",
       "      <td>-170.0</td>\n",
       "      <td>0.33</td>\n",
       "      <td>0.0</td>\n",
       "      <td>12.985849</td>\n",
       "    </tr>\n",
       "    <tr>\n",
       "      <th>2</th>\n",
       "      <td>2022-01-01 00:30:00</td>\n",
       "      <td>2</td>\n",
       "      <td>92</td>\n",
       "      <td>11.73</td>\n",
       "      <td>38</td>\n",
       "      <td>0</td>\n",
       "      <td>0.0</td>\n",
       "      <td>0.0</td>\n",
       "      <td>-167.0</td>\n",
       "      <td>0.46</td>\n",
       "      <td>0.0</td>\n",
       "      <td>12.950322</td>\n",
       "    </tr>\n",
       "    <tr>\n",
       "      <th>3</th>\n",
       "      <td>2022-01-01 00:40:00</td>\n",
       "      <td>2</td>\n",
       "      <td>92</td>\n",
       "      <td>11.72</td>\n",
       "      <td>37</td>\n",
       "      <td>0</td>\n",
       "      <td>0.0</td>\n",
       "      <td>0.0</td>\n",
       "      <td>-160.0</td>\n",
       "      <td>0.52</td>\n",
       "      <td>0.0</td>\n",
       "      <td>12.949550</td>\n",
       "    </tr>\n",
       "    <tr>\n",
       "      <th>4</th>\n",
       "      <td>2022-01-01 00:50:00</td>\n",
       "      <td>2</td>\n",
       "      <td>92</td>\n",
       "      <td>11.72</td>\n",
       "      <td>38</td>\n",
       "      <td>0</td>\n",
       "      <td>0.0</td>\n",
       "      <td>0.0</td>\n",
       "      <td>-166.0</td>\n",
       "      <td>0.51</td>\n",
       "      <td>0.0</td>\n",
       "      <td>12.952268</td>\n",
       "    </tr>\n",
       "  </tbody>\n",
       "</table>\n",
       "</div>"
      ],
      "text/plain": [
       "               DATEUTC  ID  LC_HUMIDITY  LC_DWPTEMP  LC_n  LC_RAD  LC_RAININ  \\\n",
       "0  2022-01-01 00:10:00   2           92       11.78    38       0        0.0   \n",
       "1  2022-01-01 00:20:00   2           92       11.73    37       0        0.0   \n",
       "2  2022-01-01 00:30:00   2           92       11.73    38       0        0.0   \n",
       "3  2022-01-01 00:40:00   2           92       11.72    37       0        0.0   \n",
       "4  2022-01-01 00:50:00   2           92       11.72    38       0        0.0   \n",
       "\n",
       "   LC_DAILYRAIN  LC_WINDDIR  LC_WINDSPEED  LC_RAD60  LC_TEMP_QCL3  \n",
       "0           0.0      -169.0          0.43       0.0     13.048027  \n",
       "1           0.0      -170.0          0.33       0.0     12.985849  \n",
       "2           0.0      -167.0          0.46       0.0     12.950322  \n",
       "3           0.0      -160.0          0.52       0.0     12.949550  \n",
       "4           0.0      -166.0          0.51       0.0     12.952268  "
      ]
     },
     "execution_count": 50,
     "metadata": {},
     "output_type": "execute_result"
    }
   ],
   "source": [
    "df.head()"
   ]
  },
  {
   "attachments": {},
   "cell_type": "markdown",
   "metadata": {},
   "source": [
    "### Data Profiling"
   ]
  },
  {
   "cell_type": "code",
   "execution_count": 22,
   "metadata": {},
   "outputs": [
    {
     "data": {
      "application/vnd.jupyter.widget-view+json": {
       "model_id": "dc0b335615c34e65b6dc74d538e93247",
       "version_major": 2,
       "version_minor": 0
      },
      "text/plain": [
       "Summarize dataset:   0%|          | 0/5 [00:00<?, ?it/s]"
      ]
     },
     "metadata": {},
     "output_type": "display_data"
    },
    {
     "data": {
      "application/vnd.jupyter.widget-view+json": {
       "model_id": "c905332ac0034ec9b583a47e46a9b553",
       "version_major": 2,
       "version_minor": 0
      },
      "text/plain": [
       "Generate report structure:   0%|          | 0/1 [00:00<?, ?it/s]"
      ]
     },
     "metadata": {},
     "output_type": "display_data"
    },
    {
     "data": {
      "application/vnd.jupyter.widget-view+json": {
       "model_id": "c91bf45bcefd4dc2a73fa6a527fdc059",
       "version_major": 2,
       "version_minor": 0
      },
      "text/plain": [
       "Render HTML:   0%|          | 0/1 [00:00<?, ?it/s]"
      ]
     },
     "metadata": {},
     "output_type": "display_data"
    },
    {
     "data": {
      "application/vnd.jupyter.widget-view+json": {
       "model_id": "325590576a084f3cb4b16c43d0a0106e",
       "version_major": 2,
       "version_minor": 0
      },
      "text/plain": [
       "Export report to file:   0%|          | 0/1 [00:00<?, ?it/s]"
      ]
     },
     "metadata": {},
     "output_type": "display_data"
    }
   ],
   "source": [
    "# use pandas-profiling to generate a report on the df \n",
    "profile = df.profile_report(title='Pandas Profiling Report')\n",
    "profile.to_file(output_file=\"EDA_weather.html\")"
   ]
  },
  {
   "cell_type": "code",
   "execution_count": 23,
   "metadata": {},
   "outputs": [
    {
     "name": "stdout",
     "output_type": "stream",
     "text": [
      "Data cleaning improvement suggestions. Complete them before proceeding to ML modeling.\n"
     ]
    },
    {
     "data": {
      "text/html": [
       "<style type=\"text/css\">\n",
       "#T_1f8c3_row0_col0, #T_1f8c3_row0_col4, #T_1f8c3_row1_col0, #T_1f8c3_row1_col4, #T_1f8c3_row2_col0, #T_1f8c3_row2_col1, #T_1f8c3_row2_col3, #T_1f8c3_row2_col4, #T_1f8c3_row14_col5 {\n",
       "  background-color: #67000d;\n",
       "  color: #f1f1f1;\n",
       "  font-family: Segoe UI;\n",
       "}\n",
       "#T_1f8c3_row0_col1, #T_1f8c3_row0_col3, #T_1f8c3_row0_col5, #T_1f8c3_row1_col5, #T_1f8c3_row2_col5, #T_1f8c3_row3_col1, #T_1f8c3_row3_col3, #T_1f8c3_row3_col5, #T_1f8c3_row4_col1, #T_1f8c3_row4_col3, #T_1f8c3_row4_col5, #T_1f8c3_row5_col1, #T_1f8c3_row5_col3, #T_1f8c3_row5_col5, #T_1f8c3_row6_col1, #T_1f8c3_row6_col3, #T_1f8c3_row6_col5, #T_1f8c3_row7_col1, #T_1f8c3_row7_col3, #T_1f8c3_row7_col5, #T_1f8c3_row8_col1, #T_1f8c3_row8_col3, #T_1f8c3_row8_col5, #T_1f8c3_row9_col1, #T_1f8c3_row9_col3, #T_1f8c3_row9_col5, #T_1f8c3_row10_col1, #T_1f8c3_row10_col3, #T_1f8c3_row10_col5, #T_1f8c3_row11_col1, #T_1f8c3_row11_col3, #T_1f8c3_row11_col5, #T_1f8c3_row12_col1, #T_1f8c3_row12_col3, #T_1f8c3_row12_col5, #T_1f8c3_row13_col0, #T_1f8c3_row13_col4, #T_1f8c3_row13_col5, #T_1f8c3_row14_col0, #T_1f8c3_row14_col1, #T_1f8c3_row14_col3, #T_1f8c3_row14_col4 {\n",
       "  background-color: #fff5f0;\n",
       "  color: #000000;\n",
       "  font-family: Segoe UI;\n",
       "}\n",
       "#T_1f8c3_row0_col2, #T_1f8c3_row0_col6, #T_1f8c3_row1_col2, #T_1f8c3_row1_col6, #T_1f8c3_row2_col2, #T_1f8c3_row2_col6, #T_1f8c3_row3_col2, #T_1f8c3_row3_col6, #T_1f8c3_row4_col2, #T_1f8c3_row4_col6, #T_1f8c3_row5_col2, #T_1f8c3_row5_col6, #T_1f8c3_row6_col2, #T_1f8c3_row6_col6, #T_1f8c3_row7_col2, #T_1f8c3_row7_col6, #T_1f8c3_row8_col2, #T_1f8c3_row8_col6, #T_1f8c3_row9_col2, #T_1f8c3_row9_col6, #T_1f8c3_row10_col2, #T_1f8c3_row10_col6, #T_1f8c3_row11_col2, #T_1f8c3_row11_col6, #T_1f8c3_row12_col2, #T_1f8c3_row12_col6, #T_1f8c3_row13_col2, #T_1f8c3_row13_col6, #T_1f8c3_row14_col2, #T_1f8c3_row14_col6 {\n",
       "  font-family: Segoe UI;\n",
       "}\n",
       "#T_1f8c3_row1_col1, #T_1f8c3_row1_col3 {\n",
       "  background-color: #fff2eb;\n",
       "  color: #000000;\n",
       "  font-family: Segoe UI;\n",
       "}\n",
       "#T_1f8c3_row3_col0, #T_1f8c3_row3_col4, #T_1f8c3_row4_col0, #T_1f8c3_row4_col4, #T_1f8c3_row5_col0, #T_1f8c3_row5_col4, #T_1f8c3_row6_col0, #T_1f8c3_row6_col4, #T_1f8c3_row7_col0, #T_1f8c3_row7_col4, #T_1f8c3_row8_col0, #T_1f8c3_row8_col4, #T_1f8c3_row9_col0, #T_1f8c3_row9_col4, #T_1f8c3_row10_col0, #T_1f8c3_row10_col4, #T_1f8c3_row11_col0, #T_1f8c3_row11_col4 {\n",
       "  background-color: #920a13;\n",
       "  color: #f1f1f1;\n",
       "  font-family: Segoe UI;\n",
       "}\n",
       "#T_1f8c3_row12_col0, #T_1f8c3_row12_col4 {\n",
       "  background-color: #bb141a;\n",
       "  color: #f1f1f1;\n",
       "  font-family: Segoe UI;\n",
       "}\n",
       "#T_1f8c3_row13_col1, #T_1f8c3_row13_col3 {\n",
       "  background-color: #fff4ee;\n",
       "  color: #000000;\n",
       "  font-family: Segoe UI;\n",
       "}\n",
       "</style>\n",
       "<table id=\"T_1f8c3\">\n",
       "  <thead>\n",
       "    <tr>\n",
       "      <th class=\"blank level0\" >&nbsp;</th>\n",
       "      <th id=\"T_1f8c3_level0_col0\" class=\"col_heading level0 col0\" >Nullpercent</th>\n",
       "      <th id=\"T_1f8c3_level0_col1\" class=\"col_heading level0 col1\" >NuniquePercent</th>\n",
       "      <th id=\"T_1f8c3_level0_col2\" class=\"col_heading level0 col2\" >dtype</th>\n",
       "      <th id=\"T_1f8c3_level0_col3\" class=\"col_heading level0 col3\" >Nuniques</th>\n",
       "      <th id=\"T_1f8c3_level0_col4\" class=\"col_heading level0 col4\" >Nulls</th>\n",
       "      <th id=\"T_1f8c3_level0_col5\" class=\"col_heading level0 col5\" >Least num. of categories</th>\n",
       "      <th id=\"T_1f8c3_level0_col6\" class=\"col_heading level0 col6\" >Data cleaning improvement suggestions</th>\n",
       "    </tr>\n",
       "  </thead>\n",
       "  <tbody>\n",
       "    <tr>\n",
       "      <th id=\"T_1f8c3_level0_row0\" class=\"row_heading level0 row0\" >LC_TEMP_QCL1</th>\n",
       "      <td id=\"T_1f8c3_row0_col0\" class=\"data row0 col0\" >6.228492</td>\n",
       "      <td id=\"T_1f8c3_row0_col1\" class=\"data row0 col1\" >0.096018</td>\n",
       "      <td id=\"T_1f8c3_row0_col2\" class=\"data row0 col2\" >float64</td>\n",
       "      <td id=\"T_1f8c3_row0_col3\" class=\"data row0 col3\" >5326</td>\n",
       "      <td id=\"T_1f8c3_row0_col4\" class=\"data row0 col4\" >345487</td>\n",
       "      <td id=\"T_1f8c3_row0_col5\" class=\"data row0 col5\" >0</td>\n",
       "      <td id=\"T_1f8c3_row0_col6\" class=\"data row0 col6\" >fill missing values</td>\n",
       "    </tr>\n",
       "    <tr>\n",
       "      <th id=\"T_1f8c3_level0_row1\" class=\"row_heading level0 row1\" >LC_TEMP_QCL2</th>\n",
       "      <td id=\"T_1f8c3_row1_col0\" class=\"data row1 col0\" >6.228492</td>\n",
       "      <td id=\"T_1f8c3_row1_col1\" class=\"data row1 col1\" >1.661655</td>\n",
       "      <td id=\"T_1f8c3_row1_col2\" class=\"data row1 col2\" >float64</td>\n",
       "      <td id=\"T_1f8c3_row1_col3\" class=\"data row1 col3\" >92170</td>\n",
       "      <td id=\"T_1f8c3_row1_col4\" class=\"data row1 col4\" >345487</td>\n",
       "      <td id=\"T_1f8c3_row1_col5\" class=\"data row1 col5\" >0</td>\n",
       "      <td id=\"T_1f8c3_row1_col6\" class=\"data row1 col6\" >fill missing values</td>\n",
       "    </tr>\n",
       "    <tr>\n",
       "      <th id=\"T_1f8c3_level0_row2\" class=\"row_heading level0 row2\" >LC_TEMP_QCL3</th>\n",
       "      <td id=\"T_1f8c3_row2_col0\" class=\"data row2 col0\" >6.228492</td>\n",
       "      <td id=\"T_1f8c3_row2_col1\" class=\"data row2 col1\" >82.348672</td>\n",
       "      <td id=\"T_1f8c3_row2_col2\" class=\"data row2 col2\" >float64</td>\n",
       "      <td id=\"T_1f8c3_row2_col3\" class=\"data row2 col3\" >4567782</td>\n",
       "      <td id=\"T_1f8c3_row2_col4\" class=\"data row2 col4\" >345487</td>\n",
       "      <td id=\"T_1f8c3_row2_col5\" class=\"data row2 col5\" >0</td>\n",
       "      <td id=\"T_1f8c3_row2_col6\" class=\"data row2 col6\" >fill missing values</td>\n",
       "    </tr>\n",
       "    <tr>\n",
       "      <th id=\"T_1f8c3_level0_row3\" class=\"row_heading level0 row3\" >LC_HUMIDITY</th>\n",
       "      <td id=\"T_1f8c3_row3_col0\" class=\"data row3 col0\" >5.677047</td>\n",
       "      <td id=\"T_1f8c3_row3_col1\" class=\"data row3 col1\" >0.001586</td>\n",
       "      <td id=\"T_1f8c3_row3_col2\" class=\"data row3 col2\" >float64</td>\n",
       "      <td id=\"T_1f8c3_row3_col3\" class=\"data row3 col3\" >88</td>\n",
       "      <td id=\"T_1f8c3_row3_col4\" class=\"data row3 col4\" >314899</td>\n",
       "      <td id=\"T_1f8c3_row3_col5\" class=\"data row3 col5\" >0</td>\n",
       "      <td id=\"T_1f8c3_row3_col6\" class=\"data row3 col6\" >fill missing values</td>\n",
       "    </tr>\n",
       "    <tr>\n",
       "      <th id=\"T_1f8c3_level0_row4\" class=\"row_heading level0 row4\" >LC_DWPTEMP</th>\n",
       "      <td id=\"T_1f8c3_row4_col0\" class=\"data row4 col0\" >5.677047</td>\n",
       "      <td id=\"T_1f8c3_row4_col1\" class=\"data row4 col1\" >0.064180</td>\n",
       "      <td id=\"T_1f8c3_row4_col2\" class=\"data row4 col2\" >float64</td>\n",
       "      <td id=\"T_1f8c3_row4_col3\" class=\"data row4 col3\" >3560</td>\n",
       "      <td id=\"T_1f8c3_row4_col4\" class=\"data row4 col4\" >314899</td>\n",
       "      <td id=\"T_1f8c3_row4_col5\" class=\"data row4 col5\" >0</td>\n",
       "      <td id=\"T_1f8c3_row4_col6\" class=\"data row4 col6\" >fill missing values</td>\n",
       "    </tr>\n",
       "    <tr>\n",
       "      <th id=\"T_1f8c3_level0_row5\" class=\"row_heading level0 row5\" >LC_n</th>\n",
       "      <td id=\"T_1f8c3_row5_col0\" class=\"data row5 col0\" >5.677047</td>\n",
       "      <td id=\"T_1f8c3_row5_col1\" class=\"data row5 col1\" >0.000847</td>\n",
       "      <td id=\"T_1f8c3_row5_col2\" class=\"data row5 col2\" >float64</td>\n",
       "      <td id=\"T_1f8c3_row5_col3\" class=\"data row5 col3\" >47</td>\n",
       "      <td id=\"T_1f8c3_row5_col4\" class=\"data row5 col4\" >314899</td>\n",
       "      <td id=\"T_1f8c3_row5_col5\" class=\"data row5 col5\" >0</td>\n",
       "      <td id=\"T_1f8c3_row5_col6\" class=\"data row5 col6\" >fill missing values, left skewed distribution: cap or drop outliers</td>\n",
       "    </tr>\n",
       "    <tr>\n",
       "      <th id=\"T_1f8c3_level0_row6\" class=\"row_heading level0 row6\" >LC_RAD</th>\n",
       "      <td id=\"T_1f8c3_row6_col0\" class=\"data row6 col0\" >5.677047</td>\n",
       "      <td id=\"T_1f8c3_row6_col1\" class=\"data row6 col1\" >0.016694</td>\n",
       "      <td id=\"T_1f8c3_row6_col2\" class=\"data row6 col2\" >float64</td>\n",
       "      <td id=\"T_1f8c3_row6_col3\" class=\"data row6 col3\" >926</td>\n",
       "      <td id=\"T_1f8c3_row6_col4\" class=\"data row6 col4\" >314899</td>\n",
       "      <td id=\"T_1f8c3_row6_col5\" class=\"data row6 col5\" >0</td>\n",
       "      <td id=\"T_1f8c3_row6_col6\" class=\"data row6 col6\" >fill missing values, right skewed distribution: cap or drop outliers</td>\n",
       "    </tr>\n",
       "    <tr>\n",
       "      <th id=\"T_1f8c3_level0_row7\" class=\"row_heading level0 row7\" >LC_RAININ</th>\n",
       "      <td id=\"T_1f8c3_row7_col0\" class=\"data row7 col0\" >5.677047</td>\n",
       "      <td id=\"T_1f8c3_row7_col1\" class=\"data row7 col1\" >0.001983</td>\n",
       "      <td id=\"T_1f8c3_row7_col2\" class=\"data row7 col2\" >float64</td>\n",
       "      <td id=\"T_1f8c3_row7_col3\" class=\"data row7 col3\" >110</td>\n",
       "      <td id=\"T_1f8c3_row7_col4\" class=\"data row7 col4\" >314899</td>\n",
       "      <td id=\"T_1f8c3_row7_col5\" class=\"data row7 col5\" >0</td>\n",
       "      <td id=\"T_1f8c3_row7_col6\" class=\"data row7 col6\" >fill missing values, highly right skewed distribution: drop outliers or do box-cox transform</td>\n",
       "    </tr>\n",
       "    <tr>\n",
       "      <th id=\"T_1f8c3_level0_row8\" class=\"row_heading level0 row8\" >LC_DAILYRAIN</th>\n",
       "      <td id=\"T_1f8c3_row8_col0\" class=\"data row8 col0\" >5.677047</td>\n",
       "      <td id=\"T_1f8c3_row8_col1\" class=\"data row8 col1\" >0.002596</td>\n",
       "      <td id=\"T_1f8c3_row8_col2\" class=\"data row8 col2\" >float64</td>\n",
       "      <td id=\"T_1f8c3_row8_col3\" class=\"data row8 col3\" >144</td>\n",
       "      <td id=\"T_1f8c3_row8_col4\" class=\"data row8 col4\" >314899</td>\n",
       "      <td id=\"T_1f8c3_row8_col5\" class=\"data row8 col5\" >0</td>\n",
       "      <td id=\"T_1f8c3_row8_col6\" class=\"data row8 col6\" >fill missing values, highly right skewed distribution: drop outliers or do box-cox transform</td>\n",
       "    </tr>\n",
       "    <tr>\n",
       "      <th id=\"T_1f8c3_level0_row9\" class=\"row_heading level0 row9\" >LC_WINDDIR</th>\n",
       "      <td id=\"T_1f8c3_row9_col0\" class=\"data row9 col0\" >5.677047</td>\n",
       "      <td id=\"T_1f8c3_row9_col1\" class=\"data row9 col1\" >0.006490</td>\n",
       "      <td id=\"T_1f8c3_row9_col2\" class=\"data row9 col2\" >float64</td>\n",
       "      <td id=\"T_1f8c3_row9_col3\" class=\"data row9 col3\" >360</td>\n",
       "      <td id=\"T_1f8c3_row9_col4\" class=\"data row9 col4\" >314899</td>\n",
       "      <td id=\"T_1f8c3_row9_col5\" class=\"data row9 col5\" >0</td>\n",
       "      <td id=\"T_1f8c3_row9_col6\" class=\"data row9 col6\" >fill missing values</td>\n",
       "    </tr>\n",
       "    <tr>\n",
       "      <th id=\"T_1f8c3_level0_row10\" class=\"row_heading level0 row10\" >LC_WINDSPEED</th>\n",
       "      <td id=\"T_1f8c3_row10_col0\" class=\"data row10 col0\" >5.677047</td>\n",
       "      <td id=\"T_1f8c3_row10_col1\" class=\"data row10 col1\" >0.016081</td>\n",
       "      <td id=\"T_1f8c3_row10_col2\" class=\"data row10 col2\" >float64</td>\n",
       "      <td id=\"T_1f8c3_row10_col3\" class=\"data row10 col3\" >892</td>\n",
       "      <td id=\"T_1f8c3_row10_col4\" class=\"data row10 col4\" >314899</td>\n",
       "      <td id=\"T_1f8c3_row10_col5\" class=\"data row10 col5\" >0</td>\n",
       "      <td id=\"T_1f8c3_row10_col6\" class=\"data row10 col6\" >fill missing values, right skewed distribution: cap or drop outliers</td>\n",
       "    </tr>\n",
       "    <tr>\n",
       "      <th id=\"T_1f8c3_level0_row11\" class=\"row_heading level0 row11\" >LC_TEMP_QCL0</th>\n",
       "      <td id=\"T_1f8c3_row11_col0\" class=\"data row11 col0\" >5.677047</td>\n",
       "      <td id=\"T_1f8c3_row11_col1\" class=\"data row11 col1\" >0.096433</td>\n",
       "      <td id=\"T_1f8c3_row11_col2\" class=\"data row11 col2\" >float64</td>\n",
       "      <td id=\"T_1f8c3_row11_col3\" class=\"data row11 col3\" >5349</td>\n",
       "      <td id=\"T_1f8c3_row11_col4\" class=\"data row11 col4\" >314899</td>\n",
       "      <td id=\"T_1f8c3_row11_col5\" class=\"data row11 col5\" >0</td>\n",
       "      <td id=\"T_1f8c3_row11_col6\" class=\"data row11 col6\" >fill missing values</td>\n",
       "    </tr>\n",
       "    <tr>\n",
       "      <th id=\"T_1f8c3_level0_row12\" class=\"row_heading level0 row12\" >LC_RAD60</th>\n",
       "      <td id=\"T_1f8c3_row12_col0\" class=\"data row12 col0\" >4.994195</td>\n",
       "      <td id=\"T_1f8c3_row12_col1\" class=\"data row12 col1\" >0.015648</td>\n",
       "      <td id=\"T_1f8c3_row12_col2\" class=\"data row12 col2\" >float64</td>\n",
       "      <td id=\"T_1f8c3_row12_col3\" class=\"data row12 col3\" >868</td>\n",
       "      <td id=\"T_1f8c3_row12_col4\" class=\"data row12 col4\" >277022</td>\n",
       "      <td id=\"T_1f8c3_row12_col5\" class=\"data row12 col5\" >0</td>\n",
       "      <td id=\"T_1f8c3_row12_col6\" class=\"data row12 col6\" >fill missing values, right skewed distribution: cap or drop outliers</td>\n",
       "    </tr>\n",
       "    <tr>\n",
       "      <th id=\"T_1f8c3_level0_row13\" class=\"row_heading level0 row13\" >DATEUTC</th>\n",
       "      <td id=\"T_1f8c3_row13_col0\" class=\"data row13 col0\" >0.000000</td>\n",
       "      <td id=\"T_1f8c3_row13_col1\" class=\"data row13 col1\" >0.947560</td>\n",
       "      <td id=\"T_1f8c3_row13_col2\" class=\"data row13 col2\" >object</td>\n",
       "      <td id=\"T_1f8c3_row13_col3\" class=\"data row13 col3\" >52560</td>\n",
       "      <td id=\"T_1f8c3_row13_col4\" class=\"data row13 col4\" >0</td>\n",
       "      <td id=\"T_1f8c3_row13_col5\" class=\"data row13 col5\" >98</td>\n",
       "      <td id=\"T_1f8c3_row13_col6\" class=\"data row13 col6\" >combine rare categories</td>\n",
       "    </tr>\n",
       "    <tr>\n",
       "      <th id=\"T_1f8c3_level0_row14\" class=\"row_heading level0 row14\" >ID</th>\n",
       "      <td id=\"T_1f8c3_row14_col0\" class=\"data row14 col0\" >0.000000</td>\n",
       "      <td id=\"T_1f8c3_row14_col1\" class=\"data row14 col1\" >0.001947</td>\n",
       "      <td id=\"T_1f8c3_row14_col2\" class=\"data row14 col2\" >object</td>\n",
       "      <td id=\"T_1f8c3_row14_col3\" class=\"data row14 col3\" >108</td>\n",
       "      <td id=\"T_1f8c3_row14_col4\" class=\"data row14 col4\" >0</td>\n",
       "      <td id=\"T_1f8c3_row14_col5\" class=\"data row14 col5\" >39600</td>\n",
       "      <td id=\"T_1f8c3_row14_col6\" class=\"data row14 col6\" ></td>\n",
       "    </tr>\n",
       "  </tbody>\n",
       "</table>\n"
      ],
      "text/plain": [
       "<pandas.io.formats.style.Styler at 0x280726440>"
      ]
     },
     "metadata": {},
     "output_type": "display_data"
    }
   ],
   "source": [
    "# use autoviz to make suggestions on cleaning the data\n",
    "data_cleaning_suggestions(df)"
   ]
  },
  {
   "cell_type": "code",
   "execution_count": 5,
   "metadata": {},
   "outputs": [
    {
     "data": {
      "application/vnd.jupyter.widget-view+json": {
       "model_id": "38c81f919ae741baac74b5a5962b5906",
       "version_major": 2,
       "version_minor": 0
      },
      "text/plain": [
       "                                             |          | [  0%]   00:00 -> (? left)"
      ]
     },
     "metadata": {},
     "output_type": "display_data"
    },
    {
     "name": "stdout",
     "output_type": "stream",
     "text": [
      "Report EDA_weather.html was generated! NOTEBOOK/COLAB USERS: the web browser MAY not pop up, regardless, the report IS saved in your notebook/colab files.\n"
     ]
    }
   ],
   "source": [
    "# generate visualizations on the df using sweetviz\n",
    "my_report = sv.analyze(df)\n",
    "# save the report as an html file\n",
    "my_report.show_html('EDA_weather_sweetviz.html')\n"
   ]
  },
  {
   "attachments": {},
   "cell_type": "markdown",
   "metadata": {},
   "source": [
    "### Data Cleaning"
   ]
  },
  {
   "cell_type": "code",
   "execution_count": 54,
   "metadata": {},
   "outputs": [],
   "source": [
    "# drop Year, Month, Day,Date, Hour,Minute columns from df because double info with DATEUTC\n",
    "df.drop(['Year', 'Month', 'Day', 'Date', 'Hour', 'Minute'], axis=1, inplace=True)\n"
   ]
  },
  {
   "cell_type": "code",
   "execution_count": 55,
   "metadata": {},
   "outputs": [
    {
     "data": {
      "text/plain": [
       "(277022, 15)"
      ]
     },
     "execution_count": 55,
     "metadata": {},
     "output_type": "execute_result"
    }
   ],
   "source": [
    "# number of rows where LC_TEMP_QCL1 and LC_HUMIDITY  and LC_RAD60 are null\n",
    "df[(df['LC_TEMP_QCL1'].isnull()) & (df['LC_HUMIDITY'].isnull()) & (df['LC_RAD60'].isnull())].shape"
   ]
  },
  {
   "cell_type": "code",
   "execution_count": 56,
   "metadata": {},
   "outputs": [],
   "source": [
    "# data imputing not possible so we drop rows where LC_n is null\n",
    "df.dropna(subset=['LC_n'], inplace=True)"
   ]
  },
  {
   "cell_type": "code",
   "execution_count": 57,
   "metadata": {},
   "outputs": [
    {
     "data": {
      "text/plain": [
       "(5231981, 15)"
      ]
     },
     "execution_count": 57,
     "metadata": {},
     "output_type": "execute_result"
    }
   ],
   "source": [
    "df.shape"
   ]
  },
  {
   "cell_type": "code",
   "execution_count": 58,
   "metadata": {},
   "outputs": [],
   "source": [
    "# only keep the number part of the ID column and convert to int\n",
    "df['ID'] = df['ID'].str[3:].astype(int)"
   ]
  },
  {
   "cell_type": "code",
   "execution_count": 59,
   "metadata": {},
   "outputs": [],
   "source": [
    "# convert LC_HUMIDITY column to int\n",
    "df['LC_HUMIDITY'] = df['LC_HUMIDITY'].astype(int)\n",
    "# convert LC_n column to int\n",
    "df['LC_n'] = df['LC_n'].astype(int)\n",
    "# convert LC_RAD column to int\n",
    "df['LC_RAD'] = df['LC_RAD'].astype(int)"
   ]
  },
  {
   "cell_type": "code",
   "execution_count": 60,
   "metadata": {},
   "outputs": [],
   "source": [
    "# according to the paper, QCL3 is the most accurate data so we drop QCL0, QCL1 and QCL2\n",
    "df.drop(['LC_TEMP_QCL0', 'LC_TEMP_QCL1', 'LC_TEMP_QCL2'], axis=1, inplace=True)\n",
    "# rename QCL3 to LC_TEMP\n",
    "df.rename(columns={'LC_TEMP_QCL3': 'LC_TEMP'}, inplace=True)"
   ]
  },
  {
   "cell_type": "code",
   "execution_count": 61,
   "metadata": {},
   "outputs": [],
   "source": [
    "# save df as csv\n",
    "df.to_csv('data/dataverse_files/Weather_cleaned.csv', index=False)"
   ]
  }
 ],
 "metadata": {
  "kernelspec": {
   "display_name": "default-3.10",
   "language": "python",
   "name": "python3"
  },
  "language_info": {
   "codemirror_mode": {
    "name": "ipython",
    "version": 3
   },
   "file_extension": ".py",
   "mimetype": "text/x-python",
   "name": "python",
   "nbconvert_exporter": "python",
   "pygments_lexer": "ipython3",
   "version": "3.10.0"
  },
  "orig_nbformat": 4
 },
 "nbformat": 4,
 "nbformat_minor": 2
}
