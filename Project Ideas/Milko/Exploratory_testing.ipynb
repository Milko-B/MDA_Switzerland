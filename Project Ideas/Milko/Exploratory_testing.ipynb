{
 "cells": [
  {
   "attachments": {},
   "cell_type": "markdown",
   "metadata": {},
   "source": [
    "# First Tests with the data\n",
    "\n",
    "This wil be Milko's first test with the data of the assignment\n",
    "\n",
    "## Loading in the data"
   ]
  },
  {
   "cell_type": "code",
   "execution_count": 5,
   "metadata": {},
   "outputs": [
    {
     "name": "stdout",
     "output_type": "stream",
     "text": [
      "c:\\Users\\milko\\OneDrive\\Project MDA\\MDA_Switzerland\\Ideas\\Milko\n"
     ]
    }
   ],
   "source": [
    "import os\n",
    "\n",
    "cwd = os.getcwd()\n",
    "print(cwd)\n"
   ]
  },
  {
   "cell_type": "code",
   "execution_count": 6,
   "metadata": {},
   "outputs": [
    {
     "ename": "FileNotFoundError",
     "evalue": "[WinError 3] The system cannot find the path specified: 'Raw Data/Weather Data'",
     "output_type": "error",
     "traceback": [
      "\u001b[1;31m---------------------------------------------------------------------------\u001b[0m",
      "\u001b[1;31mFileNotFoundError\u001b[0m                         Traceback (most recent call last)",
      "Cell \u001b[1;32mIn[6], line 1\u001b[0m\n\u001b[1;32m----> 1\u001b[0m \u001b[39mfrom\u001b[39;00m \u001b[39mLoad_Data\u001b[39;00m \u001b[39mimport\u001b[39;00m load_data\n\u001b[0;32m      3\u001b[0m data_weather, data_noise \u001b[39m=\u001b[39m load_data(path_weather\u001b[39m=\u001b[39m \u001b[39m\"\u001b[39m\u001b[39mc:/Users/milko/OneDrive/Project MDA/MDA_Switzerland/Ideas/Milko/Raw Data/Weather Data\u001b[39m\u001b[39m\"\u001b[39m,\n\u001b[0;32m      4\u001b[0m                                       path_noise\u001b[39m=\u001b[39m \u001b[39m\"\u001b[39m\u001b[39mc:/Users/milko/OneDrive/Project MDA/MDA_Switzerland/Ideas/Milko/Raw Data/Noise Data\u001b[39m\u001b[39m\"\u001b[39m)\n",
      "File \u001b[1;32mc:\\Users\\milko\\OneDrive\\Project MDA\\MDA_Switzerland\\Ideas\\Milko\\Load_Data.py:21\u001b[0m\n\u001b[0;32m     17\u001b[0m         data_noise\u001b[39m.\u001b[39mappend(df)\n\u001b[0;32m     19\u001b[0m     \u001b[39mreturn\u001b[39;00m(data_weather, data_noise)\n\u001b[1;32m---> 21\u001b[0m \u001b[39mprint\u001b[39m(load_data())\n",
      "File \u001b[1;32mc:\\Users\\milko\\OneDrive\\Project MDA\\MDA_Switzerland\\Ideas\\Milko\\Load_Data.py:5\u001b[0m, in \u001b[0;36mload_data\u001b[1;34m(path_weather, path_noise)\u001b[0m\n\u001b[0;32m      4\u001b[0m \u001b[39mdef\u001b[39;00m \u001b[39mload_data\u001b[39m(path_weather \u001b[39m=\u001b[39m \u001b[39m\"\u001b[39m\u001b[39mRaw Data/Weather Data\u001b[39m\u001b[39m\"\u001b[39m, path_noise \u001b[39m=\u001b[39m \u001b[39m\"\u001b[39m\u001b[39mRaw Data/Noise Data\u001b[39m\u001b[39m\"\u001b[39m):\n\u001b[1;32m----> 5\u001b[0m     csv_files_weather \u001b[39m=\u001b[39m [file \u001b[39mfor\u001b[39;00m file \u001b[39min\u001b[39;00m os\u001b[39m.\u001b[39;49mlistdir(path_weather) \u001b[39mif\u001b[39;00m file\u001b[39m.\u001b[39mendswith(\u001b[39m'\u001b[39m\u001b[39m.csv\u001b[39m\u001b[39m'\u001b[39m)]\n\u001b[0;32m      6\u001b[0m     data_weather \u001b[39m=\u001b[39m []\n\u001b[0;32m      7\u001b[0m     \u001b[39mfor\u001b[39;00m file \u001b[39min\u001b[39;00m csv_files_weather:\n",
      "\u001b[1;31mFileNotFoundError\u001b[0m: [WinError 3] The system cannot find the path specified: 'Raw Data/Weather Data'"
     ]
    }
   ],
   "source": [
    "from Load_Data import load_data\n",
    "\n",
    "data_weather, data_noise = load_data(path_weather= \"c:/Users/milko/OneDrive/Project MDA/MDA_Switzerland/Ideas/Milko/Raw Data/Weather Data\",\n",
    "                                      path_noise= \"c:/Users/milko/OneDrive/Project MDA/MDA_Switzerland/Ideas/Milko/Raw Data/Noise Data\")\n"
   ]
  }
 ],
 "metadata": {
  "kernelspec": {
   "display_name": "MDA",
   "language": "python",
   "name": "python3"
  },
  "language_info": {
   "codemirror_mode": {
    "name": "ipython",
    "version": 3
   },
   "file_extension": ".py",
   "mimetype": "text/x-python",
   "name": "python",
   "nbconvert_exporter": "python",
   "pygments_lexer": "ipython3",
   "version": "3.9.5"
  },
  "orig_nbformat": 4
 },
 "nbformat": 4,
 "nbformat_minor": 2
}
